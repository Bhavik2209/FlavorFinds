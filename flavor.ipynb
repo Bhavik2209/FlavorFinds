{
 "cells": [
  {
   "cell_type": "code",
   "execution_count": 644,
   "metadata": {},
   "outputs": [],
   "source": [
    "import numpy as np\n",
    "import pandas as pd\n",
    "import matplotlib.pyplot as plt\n",
    "import seaborn as sns"
   ]
  },
  {
   "cell_type": "code",
   "execution_count": 645,
   "metadata": {},
   "outputs": [],
   "source": [
    "df1 = pd.read_csv(\"dataset/page1.csv\")\n",
    "df2 = pd.read_csv(\"dataset/page2.csv\")\n",
    "df3 = pd.read_csv(\"dataset/page3.csv\")\n",
    "df4 = pd.read_csv(\"dataset/page1_2.csv\")\n",
    "df5 = pd.read_csv(\"dataset/page2_1.csv\")\n",
    "df6 = pd.read_csv(\"dataset/page2_2.csv\")\n",
    "df7 = pd.read_csv(\"dataset/page3_1.csv\")\n",
    "df8 = pd.read_csv(\"dataset/page3_2.csv\")"
   ]
  },
  {
   "cell_type": "code",
   "execution_count": 646,
   "metadata": {},
   "outputs": [],
   "source": [
    "df = pd.concat([df1,df2,df3,df4,df5,df6,df7,df8])"
   ]
  },
  {
   "cell_type": "code",
   "execution_count": null,
   "metadata": {},
   "outputs": [],
   "source": []
  },
  {
   "cell_type": "code",
   "execution_count": 647,
   "metadata": {},
   "outputs": [
    {
     "data": {
      "text/plain": [
       "(240, 9)"
      ]
     },
     "execution_count": 647,
     "metadata": {},
     "output_type": "execute_result"
    }
   ],
   "source": [
    "df.shape"
   ]
  },
  {
   "cell_type": "code",
   "execution_count": 648,
   "metadata": {},
   "outputs": [
    {
     "data": {
      "text/plain": [
       "title            124\n",
       "address          124\n",
       "total_ratings    124\n",
       "rating           124\n",
       "type             124\n",
       "type2            126\n",
       "description      126\n",
       "timing           165\n",
       "phone            124\n",
       "dtype: int64"
      ]
     },
     "execution_count": 648,
     "metadata": {},
     "output_type": "execute_result"
    }
   ],
   "source": [
    "df.isnull().sum()"
   ]
  },
  {
   "cell_type": "code",
   "execution_count": 649,
   "metadata": {},
   "outputs": [],
   "source": [
    "df.dropna(inplace=True)"
   ]
  },
  {
   "cell_type": "code",
   "execution_count": 650,
   "metadata": {},
   "outputs": [
    {
     "data": {
      "text/plain": [
       "(73, 9)"
      ]
     },
     "execution_count": 650,
     "metadata": {},
     "output_type": "execute_result"
    }
   ],
   "source": [
    "df.shape"
   ]
  },
  {
   "cell_type": "code",
   "execution_count": 651,
   "metadata": {},
   "outputs": [
    {
     "data": {
      "text/plain": [
       "29"
      ]
     },
     "execution_count": 651,
     "metadata": {},
     "output_type": "execute_result"
    }
   ],
   "source": [
    "df.duplicated().sum()"
   ]
  },
  {
   "cell_type": "code",
   "execution_count": 652,
   "metadata": {},
   "outputs": [],
   "source": [
    "df.drop_duplicates(inplace=True)"
   ]
  },
  {
   "cell_type": "code",
   "execution_count": 653,
   "metadata": {},
   "outputs": [],
   "source": [
    "df.drop_duplicates(subset=['title'], keep='first', inplace=True)"
   ]
  },
  {
   "cell_type": "code",
   "execution_count": 654,
   "metadata": {},
   "outputs": [],
   "source": [
    "df.dropna(inplace=True)"
   ]
  },
  {
   "cell_type": "code",
   "execution_count": 655,
   "metadata": {},
   "outputs": [
    {
     "data": {
      "text/plain": [
       "(40, 9)"
      ]
     },
     "execution_count": 655,
     "metadata": {},
     "output_type": "execute_result"
    }
   ],
   "source": [
    "df.shape"
   ]
  },
  {
   "cell_type": "code",
   "execution_count": 656,
   "metadata": {},
   "outputs": [
    {
     "data": {
      "text/plain": [
       "title\n",
       "Peshawri                                          1\n",
       "Mandap                                            1\n",
       "Millennium Restaurant                             1\n",
       "Radhika Restaurant                                1\n",
       "22nd Parallel                                     1\n",
       "Azure                                             1\n",
       "My Restaurant                                     1\n",
       "Mynt                                              1\n",
       "Hariyali Restaurant                               1\n",
       "Milton's South Corner                             1\n",
       "White Potato Restaurant                           1\n",
       "Cafe Fitoor                                       1\n",
       "Meraki                                            1\n",
       "Hotel Nyay Mandir Restaurant                      1\n",
       "Curry Kingdom Vadodara                            1\n",
       "Barbeque Nation                                   1\n",
       "Ekta Restaurant & Banquet                         1\n",
       "Cafe Bistro                                       1\n",
       "Tarkari Restaurant                                1\n",
       "Orizon Restaurant                                 1\n",
       "Khamma Ghani - The Royal Kitchens Of Rajasthan    1\n",
       "Oak Leaf                                          1\n",
       "Mirch Masala Restaurant                           1\n",
       "The Barbeque Nation                               1\n",
       "Kai Asia                                          1\n",
       "Sankalp Restaurant                                1\n",
       "Fiorella Italian Restaurant                       1\n",
       "Gazebo Restaurant, Vadodara                       1\n",
       "Havmor Restaurant                                 1\n",
       "Salsa Habanero Mexican Taqueria                   1\n",
       "Chung Faa                                         1\n",
       "Blue Lagoon                                       1\n",
       "Rasthal Gujarati Thali                            1\n",
       "PinXX - KIitchen and Lounge                       1\n",
       "Subway                                            1\n",
       "New Alka                                          1\n",
       "La Benito                                         1\n",
       "Gusto's Pizzeria                                  1\n",
       "Rasa                                              1\n",
       "The Dhaba                                         1\n",
       "Name: count, dtype: int64"
      ]
     },
     "execution_count": 656,
     "metadata": {},
     "output_type": "execute_result"
    }
   ],
   "source": [
    "df['title'].value_counts()"
   ]
  },
  {
   "cell_type": "code",
   "execution_count": 657,
   "metadata": {},
   "outputs": [
    {
     "data": {
      "text/plain": [
       "Index(['title', 'address', 'total_ratings', 'rating', 'type', 'type2',\n",
       "       'description', 'timing', 'phone'],\n",
       "      dtype='object')"
      ]
     },
     "execution_count": 657,
     "metadata": {},
     "output_type": "execute_result"
    }
   ],
   "source": [
    "df.columns"
   ]
  },
  {
   "cell_type": "code",
   "execution_count": 658,
   "metadata": {},
   "outputs": [],
   "source": [
    "df['index'] = range(len(df))"
   ]
  },
  {
   "cell_type": "code",
   "execution_count": 659,
   "metadata": {},
   "outputs": [],
   "source": [
    "titles = df['title'].tolist()"
   ]
  },
  {
   "cell_type": "code",
   "execution_count": 660,
   "metadata": {},
   "outputs": [],
   "source": [
    "from sklearn.metrics.pairwise import cosine_similarity"
   ]
  },
  {
   "cell_type": "code",
   "execution_count": 661,
   "metadata": {},
   "outputs": [],
   "source": [
    "from sklearn.feature_extraction.text import TfidfVectorizer\n",
    "vector = TfidfVectorizer()"
   ]
  },
  {
   "cell_type": "code",
   "execution_count": 662,
   "metadata": {},
   "outputs": [],
   "source": [
    "import difflib"
   ]
  },
  {
   "cell_type": "code",
   "execution_count": 663,
   "metadata": {},
   "outputs": [],
   "source": [
    "user_input = input()"
   ]
  },
  {
   "cell_type": "code",
   "execution_count": 664,
   "metadata": {},
   "outputs": [],
   "source": [
    "def user_input_take(user_input):\n",
    "    combined_cols = df['address'] + \" \" + df['description']+ \" \" +df['type'] + \" \" + df['type2'] \n",
    "    vector_combined_cols = vector.fit_transform(combined_cols)\n",
    "    similarity  = cosine_similarity(vector_combined_cols)\n",
    "    np.set_printoptions(threshold=10)\n",
    "    restau_name = difflib.get_close_matches(user_input,titles)\n",
    "    close_match = restau_name[0]\n",
    "    index_of_the_movie = df[df['title']==close_match]['index'].values[0]\n",
    "    similarity_score = list(enumerate(similarity[index_of_the_movie]))\n",
    "    return similarity_score"
   ]
  },
  {
   "cell_type": "code",
   "execution_count": 665,
   "metadata": {},
   "outputs": [],
   "source": [
    "similarity_score = user_input_take(user_input)"
   ]
  },
  {
   "cell_type": "code",
   "execution_count": 666,
   "metadata": {},
   "outputs": [],
   "source": [
    "def recommandations(similarity_score):\n",
    "    restaurants = []\n",
    "    sorted_similar_restaurants = sorted(similarity_score, key = lambda x:x[1], reverse = True)\n",
    "    i = 1\n",
    "    for r in sorted_similar_restaurants:\n",
    "        if i==6:\n",
    "         break;\n",
    "        index = r[0]\n",
    "        title_from_index = df[df['index']==index]['title'].values[0]\n",
    "        if i>1:\n",
    "            restaurants.append(title_from_index)\n",
    "        i+=1\n",
    "    return restaurants"
   ]
  },
  {
   "cell_type": "code",
   "execution_count": 668,
   "metadata": {},
   "outputs": [],
   "source": [
    "restaurants = recommandations(similarity_score)"
   ]
  },
  {
   "cell_type": "code",
   "execution_count": 670,
   "metadata": {},
   "outputs": [
    {
     "name": "stdout",
     "output_type": "stream",
     "text": [
      "['Peshawri', 'The Barbeque Nation', '22nd Parallel', 'Azure']\n"
     ]
    }
   ],
   "source": [
    "print(restaurants)"
   ]
  },
  {
   "cell_type": "code",
   "execution_count": null,
   "metadata": {},
   "outputs": [],
   "source": []
  }
 ],
 "metadata": {
  "kernelspec": {
   "display_name": "Python 3",
   "language": "python",
   "name": "python3"
  },
  "language_info": {
   "codemirror_mode": {
    "name": "ipython",
    "version": 3
   },
   "file_extension": ".py",
   "mimetype": "text/x-python",
   "name": "python",
   "nbconvert_exporter": "python",
   "pygments_lexer": "ipython3",
   "version": "3.12.2"
  }
 },
 "nbformat": 4,
 "nbformat_minor": 2
}
