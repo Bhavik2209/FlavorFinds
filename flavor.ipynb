{
 "cells": [
  {
   "cell_type": "code",
   "execution_count": 1,
   "metadata": {},
   "outputs": [],
   "source": [
    "import numpy as np\n",
    "import pandas as pd\n",
    "import matplotlib.pyplot as plt\n",
    "import seaborn as sns"
   ]
  },
  {
   "cell_type": "code",
   "execution_count": 4,
   "metadata": {},
   "outputs": [],
   "source": [
    "df1 = pd.read_csv(\"dataset/page1.csv\")\n",
    "df2 = pd.read_csv(\"dataset/page2.csv\")\n",
    "df3 = pd.read_csv(\"dataset/page3.csv\")\n",
    "df4 = pd.read_csv(\"dataset/page1_2.csv\")\n",
    "df5 = pd.read_csv(\"dataset/page2_1.csv\")\n",
    "df6 = pd.read_csv(\"dataset/page2_2.csv\")\n",
    "df7 = pd.read_csv(\"dataset/page3_1.csv\")\n",
    "df8 = pd.read_csv(\"dataset/page3_2.csv\")"
   ]
  },
  {
   "cell_type": "code",
   "execution_count": 6,
   "metadata": {},
   "outputs": [],
   "source": [
    "df = pd.concat([df1,df2,df3,df4,df5,df6,df7,df8])"
   ]
  },
  {
   "cell_type": "code",
   "execution_count": 7,
   "metadata": {},
   "outputs": [
    {
     "data": {
      "text/plain": [
       "(240, 9)"
      ]
     },
     "execution_count": 7,
     "metadata": {},
     "output_type": "execute_result"
    }
   ],
   "source": [
    "df.shape"
   ]
  },
  {
   "cell_type": "code",
   "execution_count": 8,
   "metadata": {},
   "outputs": [
    {
     "data": {
      "text/plain": [
       "title            124\n",
       "address          124\n",
       "total_ratings    124\n",
       "rating           124\n",
       "type             124\n",
       "type2            126\n",
       "description      126\n",
       "timing           165\n",
       "phone            124\n",
       "dtype: int64"
      ]
     },
     "execution_count": 8,
     "metadata": {},
     "output_type": "execute_result"
    }
   ],
   "source": [
    "df.isnull().sum()"
   ]
  },
  {
   "cell_type": "code",
   "execution_count": 9,
   "metadata": {},
   "outputs": [],
   "source": [
    "df.dropna(inplace=True)"
   ]
  },
  {
   "cell_type": "code",
   "execution_count": 10,
   "metadata": {},
   "outputs": [
    {
     "data": {
      "text/plain": [
       "(73, 9)"
      ]
     },
     "execution_count": 10,
     "metadata": {},
     "output_type": "execute_result"
    }
   ],
   "source": [
    "df.shape"
   ]
  },
  {
   "cell_type": "code",
   "execution_count": 11,
   "metadata": {},
   "outputs": [
    {
     "data": {
      "text/plain": [
       "29"
      ]
     },
     "execution_count": 11,
     "metadata": {},
     "output_type": "execute_result"
    }
   ],
   "source": [
    "df.duplicated().sum()"
   ]
  },
  {
   "cell_type": "code",
   "execution_count": 12,
   "metadata": {},
   "outputs": [],
   "source": [
    "df.drop_duplicates(inplace=True)"
   ]
  },
  {
   "cell_type": "code",
   "execution_count": 13,
   "metadata": {},
   "outputs": [
    {
     "data": {
      "text/plain": [
       "(44, 9)"
      ]
     },
     "execution_count": 13,
     "metadata": {},
     "output_type": "execute_result"
    }
   ],
   "source": [
    "df.shape"
   ]
  },
  {
   "cell_type": "code",
   "execution_count": 185,
   "metadata": {},
   "outputs": [
    {
     "data": {
      "text/plain": [
       "Index(['title', 'address', 'total_ratings', 'rating', 'type', 'type2',\n",
       "       'description', 'timing', 'phone'],\n",
       "      dtype='object')"
      ]
     },
     "execution_count": 185,
     "metadata": {},
     "output_type": "execute_result"
    }
   ],
   "source": [
    "df.columns"
   ]
  },
  {
   "cell_type": "code",
   "execution_count": 186,
   "metadata": {},
   "outputs": [
    {
     "data": {
      "text/plain": [
       "0     R C Dutt Road Alkapuri, Vadodara 390007 India ...\n",
       "2     Jetalpur Rd First Floor, Tapan Complex ,Next T...\n",
       "5     R C Dutt Road 3rd Floor, Shreem Shalini Mall, ...\n",
       "8     Akota Garden, Akota The Gateway Hotel, Vadodar...\n",
       "9     Opposite Parsi Agiary Surya Palace Hotel, Vado...\n",
       "13    Sama Savli Rd Spenta Complex, 101/102, 1st Flo...\n",
       "14    18/19, Alkapuri Society, Near Rbs Bank Lane Op...\n",
       "20    Yash Kamal Building, Sayajiganj Rd Opposite M....\n",
       "23    Inorbit Mall, Astoriya Complex, 1st Floor, Nea...\n",
       "27    56 Old Padra Road Diwalipura, Vadodara 390007 ...\n",
       "28    R C Dutt Road Near Standard Chartered Bank, Je...\n",
       "9     Rocv. Akota Mujhmahuda, Vadodara 390020 India ...\n",
       "12    Shop No. 4/3 & 4/4, Govardhan Apartments Near ...\n",
       "15    101/102 Race Course Road Opposite Axis Bank, A...\n",
       "17    Meraki Kitchen Nf-39, First Floor,india Bull M...\n",
       "23    4, Rajnagar Society, G.E.B. Road Opposite Ajit...\n",
       "24    Shantanam Beside Tbz 1st Floor Race Course Roa...\n",
       "25    Ellora Park Shaimi Society, Vadodara 390023 In...\n",
       "28    SB 1,2,3 Landmark Complex Race Course, Vadodar...\n",
       "0     8 National Highway, Bharuch 392011 India Chine...\n",
       "2     101 The Plaza Opposite Saffron Building, Fateh...\n",
       "9     Indraprasth Complex, B-Wing, Race Course Rd El...\n",
       "10    Jetalpur Road Capri House 2, 15, Sudha Nagar, ...\n",
       "13    Old Padra Road 63 Haribhakti Society Extension...\n",
       "14    3rd Floor, Cinemall, Race Course Rd, Near Natu...\n",
       "15    Samarkha Crossing National Highway No 8, Anand...\n",
       "19    GF 9&10 , RBG Bricklane, Nr VUDA Circle, Vadod...\n",
       "dtype: object"
      ]
     },
     "execution_count": 186,
     "metadata": {},
     "output_type": "execute_result"
    }
   ],
   "source": [
    "combined_cols = df['address'] + \" \" +df['type'] + \" \" + df['type2'] + \" \" + df['description']\n",
    "combined_cols"
   ]
  },
  {
   "cell_type": "code",
   "execution_count": 187,
   "metadata": {},
   "outputs": [],
   "source": [
    "from sklearn.feature_extraction.text import TfidfVectorizer\n",
    "vector = TfidfVectorizer()\n",
    "vector_combined_cols = vector.fit_transform(combined_cols)"
   ]
  },
  {
   "cell_type": "code",
   "execution_count": 188,
   "metadata": {},
   "outputs": [
    {
     "name": "stdout",
     "output_type": "stream",
     "text": [
      "  (0, 76)\t0.228257118981397\n",
      "  (0, 82)\t0.2408496571923109\n",
      "  (0, 85)\t0.3457130594480065\n",
      "  (0, 137)\t0.3083013428145907\n",
      "  (0, 197)\t0.15415067140729535\n",
      "  (0, 77)\t0.1279438929698761\n",
      "  (0, 198)\t0.1279438929698761\n",
      "  (0, 87)\t0.3457130594480065\n",
      "  (0, 94)\t0.1326963644577797\n",
      "  (0, 4)\t0.3457130594480065\n",
      "  (0, 0)\t0.29109915728001184\n",
      "  (0, 93)\t0.10691300441305444\n",
      "  (0, 13)\t0.18101945198715613\n",
      "  (0, 194)\t0.11483611036696782\n",
      "  (0, 28)\t0.2716066118739048\n",
      "  (0, 155)\t0.21699270970591017\n",
      "  (0, 63)\t0.3149561047664126\n",
      "  (1, 32)\t0.12781552876431432\n",
      "  (1, 111)\t0.24136769805097422\n",
      "  (1, 113)\t0.32259500004644864\n",
      "  (1, 190)\t0.32259500004644864\n",
      "  (1, 126)\t0.32259500004644864\n",
      "  (1, 54)\t0.2252052644053815\n",
      "  (1, 185)\t0.32259500004644864\n",
      "  (1, 73)\t0.18926161067272218\n",
      "  :\t:\n",
      "  (25, 130)\t0.29861225713366674\n",
      "  (25, 51)\t0.23460225527376202\n",
      "  (25, 32)\t0.1331488026547216\n",
      "  (25, 137)\t0.1331488026547216\n",
      "  (25, 197)\t0.1331488026547216\n",
      "  (25, 77)\t0.1105125005321036\n",
      "  (25, 198)\t0.1105125005321036\n",
      "  (25, 94)\t0.11461748354961589\n",
      "  (25, 93)\t0.09234691225057785\n",
      "  (26, 200)\t0.31611680831829886\n",
      "  (26, 132)\t0.31611680831829886\n",
      "  (26, 42)\t0.31611680831829886\n",
      "  (26, 150)\t0.31611680831829886\n",
      "  (26, 81)\t0.31611680831829886\n",
      "  (26, 165)\t0.28089495709422424\n",
      "  (26, 183)\t0.28089495709422424\n",
      "  (26, 164)\t0.28089495709422424\n",
      "  (26, 15)\t0.28089495709422424\n",
      "  (26, 53)\t0.25590465594844225\n",
      "  (26, 61)\t0.12524880113043638\n",
      "  (26, 110)\t0.12524880113043638\n",
      "  (26, 32)\t0.12524880113043638\n",
      "  (26, 0)\t0.23652067244694672\n",
      "  (26, 93)\t0.0868677736252428\n",
      "  (26, 194)\t0.09330536817411811\n"
     ]
    }
   ],
   "source": [
    "print(vector_combined_cols)"
   ]
  },
  {
   "cell_type": "code",
   "execution_count": 189,
   "metadata": {},
   "outputs": [
    {
     "name": "stdout",
     "output_type": "stream",
     "text": [
      "[[1.         0.27914109 0.50647798 ... 0.07830509 0.11493614 0.08885309]\n",
      " [0.27914109 1.         0.27843334 ... 0.1407861  0.1123189  0.03259369]\n",
      " [0.50647798 0.27843334 1.         ... 0.21159174 0.09147787 0.05262242]\n",
      " ...\n",
      " [0.07830509 0.1407861  0.21159174 ... 1.         0.03878514 0.15976993]\n",
      " [0.11493614 0.1123189  0.09147787 ... 0.03878514 1.         0.0246987 ]\n",
      " [0.08885309 0.03259369 0.05262242 ... 0.15976993 0.0246987  1.        ]]\n"
     ]
    }
   ],
   "source": [
    "from sklearn.metrics.pairwise import cosine_similarity\n",
    "similarity  = cosine_similarity(vector_combined_cols)\n",
    "np.set_printoptions(threshold=10)\n",
    "print(similarity)"
   ]
  },
  {
   "cell_type": "code",
   "execution_count": 190,
   "metadata": {},
   "outputs": [
    {
     "data": {
      "text/plain": [
       "(27, 27)"
      ]
     },
     "execution_count": 190,
     "metadata": {},
     "output_type": "execute_result"
    }
   ],
   "source": [
    "similarity.shape "
   ]
  },
  {
   "cell_type": "code",
   "execution_count": 191,
   "metadata": {},
   "outputs": [
    {
     "data": {
      "text/plain": [
       "['Peshawri',\n",
       " '22nd Parallel',\n",
       " 'The Barbeque Nation',\n",
       " 'Kai Asia',\n",
       " 'Azure',\n",
       " 'Sankalp Restaurant',\n",
       " 'Fiorella Italian Restaurant',\n",
       " 'Havmor Restaurant',\n",
       " 'Mirch Masala Restaurant',\n",
       " 'Havmor Restaurant',\n",
       " 'Chung Faa',\n",
       " 'PinXX - KIitchen and Lounge',\n",
       " 'Subway',\n",
       " 'Sankalp Restaurant',\n",
       " 'Meraki',\n",
       " 'White Potato Restaurant',\n",
       " 'La Benito',\n",
       " \"Gusto's Pizzeria\",\n",
       " 'Cafe Fitoor',\n",
       " 'Hotel Nyay Mandir Restaurant',\n",
       " 'Sankalp Restaurant',\n",
       " 'Curry Kingdom Vadodara',\n",
       " 'Khamma Ghani - The Royal Kitchens Of Rajasthan',\n",
       " 'The Dhaba',\n",
       " 'Barbeque Nation',\n",
       " 'Ekta Restaurant & Banquet',\n",
       " '22nd Parallel']"
      ]
     },
     "execution_count": 191,
     "metadata": {},
     "output_type": "execute_result"
    }
   ],
   "source": [
    "titles = df['title'].tolist()\n",
    "titles"
   ]
  },
  {
   "cell_type": "code",
   "execution_count": 192,
   "metadata": {},
   "outputs": [
    {
     "name": "stdout",
     "output_type": "stream",
     "text": [
      "['22nd Parallel', '22nd Parallel']\n"
     ]
    }
   ],
   "source": [
    "import difflib\n",
    "user_input = input(\"enter the restaurant name :\")\n",
    "restau_name = difflib.get_close_matches(user_input,titles)\n",
    "print(restau_name)"
   ]
  },
  {
   "cell_type": "code",
   "execution_count": 193,
   "metadata": {},
   "outputs": [
    {
     "name": "stdout",
     "output_type": "stream",
     "text": [
      "22nd Parallel\n"
     ]
    }
   ],
   "source": [
    "close_match = restau_name[0]\n",
    "print(close_match) "
   ]
  },
  {
   "cell_type": "code",
   "execution_count": 194,
   "metadata": {},
   "outputs": [],
   "source": [
    "df['index'] = range(len(df))"
   ]
  },
  {
   "cell_type": "code",
   "execution_count": 195,
   "metadata": {},
   "outputs": [],
   "source": [
    "index_of_the_movie = df[df['title']==close_match]['index'].values[0]"
   ]
  },
  {
   "cell_type": "code",
   "execution_count": 196,
   "metadata": {},
   "outputs": [
    {
     "data": {
      "text/plain": [
       "1"
      ]
     },
     "execution_count": 196,
     "metadata": {},
     "output_type": "execute_result"
    }
   ],
   "source": [
    "index_of_the_movie"
   ]
  },
  {
   "cell_type": "code",
   "execution_count": 197,
   "metadata": {},
   "outputs": [
    {
     "name": "stdout",
     "output_type": "stream",
     "text": [
      "[(0, 0.2791410887622738), (1, 1.0000000000000002), (2, 0.27843333917589164), (3, 0.08434577927321048), (4, 0.23505975113411912), (5, 0.3254230363063388), (6, 0.212541318247666), (7, 0.11598227137722861), (8, 0.30826979220250517), (9, 0.28298167871320523), (10, 0.1103804476337974), (11, 0.13914570271660034), (12, 0.0792421198824297), (13, 0.17173561386872596), (14, 0.27005965623826944), (15, 0.12331544122959738), (16, 0.12738821576591475), (17, 0.016749664955108882), (18, 0.14328185949939373), (19, 0.1132229314161492), (20, 0.12892920151926213), (21, 0.07270741350871898), (22, 0.17893639756137653), (23, 0.08518562564795308), (24, 0.14078610223627447), (25, 0.11231890340797793), (26, 0.03259369430523112)]\n"
     ]
    }
   ],
   "source": [
    "similarity_score = list(enumerate(similarity[index_of_the_movie]))\n",
    "print(similarity_score)"
   ]
  },
  {
   "cell_type": "code",
   "execution_count": 198,
   "metadata": {},
   "outputs": [
    {
     "name": "stdout",
     "output_type": "stream",
     "text": [
      "[(1, 1.0000000000000002), (5, 0.3254230363063388), (8, 0.30826979220250517), (9, 0.28298167871320523), (0, 0.2791410887622738), (2, 0.27843333917589164), (14, 0.27005965623826944), (4, 0.23505975113411912), (6, 0.212541318247666), (22, 0.17893639756137653), (13, 0.17173561386872596), (18, 0.14328185949939373), (24, 0.14078610223627447), (11, 0.13914570271660034), (20, 0.12892920151926213), (16, 0.12738821576591475), (15, 0.12331544122959738), (7, 0.11598227137722861), (19, 0.1132229314161492), (25, 0.11231890340797793), (10, 0.1103804476337974), (23, 0.08518562564795308), (3, 0.08434577927321048), (12, 0.0792421198824297), (21, 0.07270741350871898), (26, 0.03259369430523112), (17, 0.016749664955108882)]\n"
     ]
    }
   ],
   "source": [
    "sorted_similar_restaurants = sorted(similarity_score, key = lambda x:x[1], reverse = True) \n",
    "print(sorted_similar_restaurants)"
   ]
  },
  {
   "cell_type": "code",
   "execution_count": 199,
   "metadata": {},
   "outputs": [
    {
     "name": "stdout",
     "output_type": "stream",
     "text": [
      "1 . 22nd Parallel\n",
      "2 . Sankalp Restaurant\n",
      "3 . Mirch Masala Restaurant\n",
      "4 . Havmor Restaurant\n",
      "5 . Peshawri\n"
     ]
    }
   ],
   "source": [
    "i = 1\n",
    "for r in sorted_similar_restaurants:\n",
    "  if i==6:\n",
    "    break;\n",
    "  index = r[0]\n",
    "  title_from_index = df[df['index']==index]['title'].values[0]\n",
    "  print(i, '.',title_from_index)\n",
    "  i+=1"
   ]
  }
 ],
 "metadata": {
  "kernelspec": {
   "display_name": "Python 3",
   "language": "python",
   "name": "python3"
  },
  "language_info": {
   "codemirror_mode": {
    "name": "ipython",
    "version": 3
   },
   "file_extension": ".py",
   "mimetype": "text/x-python",
   "name": "python",
   "nbconvert_exporter": "python",
   "pygments_lexer": "ipython3",
   "version": "3.12.2"
  }
 },
 "nbformat": 4,
 "nbformat_minor": 2
}
